{
 "cells": [
  {
   "cell_type": "raw",
   "metadata": {},
   "source": [
    "---\n",
    "skip_exec: true\n",
    "title: Testing cross-reference with holoviews charts\n",
    "author: \"Luis R. Gonzalez\"\n",
    "date: 'Aug 20, 2022'\n",
    "format:\n",
    "    html:\n",
    "        code-fold: true\n",
    "output-file: cross.html\n",
    "description: Testing cross reference with holoviews\n",
    "---\n"
   ]
  },
  {
   "cell_type": "code",
   "execution_count": 1,
   "metadata": {},
   "outputs": [
    {
     "data": {
      "text/html": [
       "<style type=\"text/css\">\n",
       "#T_09b2c_row0_col0, #T_09b2c_row0_col1, #T_09b2c_row0_col2, #T_09b2c_row1_col0, #T_09b2c_row1_col1, #T_09b2c_row1_col2, #T_09b2c_row2_col0, #T_09b2c_row2_col1, #T_09b2c_row2_col2, #T_09b2c_row3_col0, #T_09b2c_row3_col1, #T_09b2c_row3_col2 {\n",
       "  color: blue;\n",
       "  text-align: right;\n",
       "}\n",
       "</style>\n",
       "<table id=\"T_09b2c\">\n",
       "  <thead>\n",
       "    <tr>\n",
       "      <th class=\"blank level0\" >&nbsp;</th>\n",
       "      <th id=\"T_09b2c_level0_col0\" class=\"col_heading level0 col0\" >Name</th>\n",
       "      <th id=\"T_09b2c_level0_col1\" class=\"col_heading level0 col1\" >Age</th>\n",
       "      <th id=\"T_09b2c_level0_col2\" class=\"col_heading level0 col2\" >City</th>\n",
       "    </tr>\n",
       "  </thead>\n",
       "  <tbody>\n",
       "    <tr>\n",
       "      <th id=\"T_09b2c_level0_row0\" class=\"row_heading level0 row0\" >0</th>\n",
       "      <td id=\"T_09b2c_row0_col0\" class=\"data row0 col0\" >John</td>\n",
       "      <td id=\"T_09b2c_row0_col1\" class=\"data row0 col1\" >25</td>\n",
       "      <td id=\"T_09b2c_row0_col2\" class=\"data row0 col2\" >New York</td>\n",
       "    </tr>\n",
       "    <tr>\n",
       "      <th id=\"T_09b2c_level0_row1\" class=\"row_heading level0 row1\" >1</th>\n",
       "      <td id=\"T_09b2c_row1_col0\" class=\"data row1 col0\" >Jane</td>\n",
       "      <td id=\"T_09b2c_row1_col1\" class=\"data row1 col1\" >30</td>\n",
       "      <td id=\"T_09b2c_row1_col2\" class=\"data row1 col2\" >Paris</td>\n",
       "    </tr>\n",
       "    <tr>\n",
       "      <th id=\"T_09b2c_level0_row2\" class=\"row_heading level0 row2\" >2</th>\n",
       "      <td id=\"T_09b2c_row2_col0\" class=\"data row2 col0\" >Bob</td>\n",
       "      <td id=\"T_09b2c_row2_col1\" class=\"data row2 col1\" >35</td>\n",
       "      <td id=\"T_09b2c_row2_col2\" class=\"data row2 col2\" >London</td>\n",
       "    </tr>\n",
       "    <tr>\n",
       "      <th id=\"T_09b2c_level0_row3\" class=\"row_heading level0 row3\" >3</th>\n",
       "      <td id=\"T_09b2c_row3_col0\" class=\"data row3 col0\" >Alice</td>\n",
       "      <td id=\"T_09b2c_row3_col1\" class=\"data row3 col1\" >40</td>\n",
       "      <td id=\"T_09b2c_row3_col2\" class=\"data row3 col2\" >Tokyo</td>\n",
       "    </tr>\n",
       "  </tbody>\n",
       "</table>\n"
      ],
      "text/plain": [
       "<IPython.core.display.HTML object>"
      ]
     },
     "execution_count": 1,
     "metadata": {},
     "output_type": "execute_result"
    }
   ],
   "source": [
    "# | label: tbl-test-pandas1\n",
    "# | tbl-cap: Embedding a table with panda styler local\n",
    "import pandas as pd\n",
    "\n",
    "# create a sample dataframe\n",
    "data = {\n",
    "    \"Name\": [\"John\", \"Jane\", \"Bob\", \"Alice\"],\n",
    "    \"Age\": [25, 30, 35, 40],\n",
    "    \"City\": [\"New York\", \"Paris\", \"London\", \"Tokyo\"],\n",
    "}\n",
    "df = pd.DataFrame(data)\n",
    "\n",
    "# format dataframe with blue text and right-aligned content\n",
    "styled_table = df.style.set_properties(**{\"color\": \"blue\", \"text-align\": \"right\"})\n",
    "\n",
    "# generate HTML table\n",
    "html_table = styled_table.to_html()\n",
    "\n",
    "\n",
    "# display HTML table\n",
    "from IPython.core.display import HTML\n",
    "\n",
    "HTML(html_table)"
   ]
  },
  {
   "cell_type": "code",
   "execution_count": 2,
   "metadata": {},
   "outputs": [
    {
     "data": {
      "text/html": [
       "<style type=\"text/css\">\n",
       "#T_09b2c_row0_col0, #T_09b2c_row0_col1, #T_09b2c_row0_col2, #T_09b2c_row1_col0, #T_09b2c_row1_col1, #T_09b2c_row1_col2, #T_09b2c_row2_col0, #T_09b2c_row2_col1, #T_09b2c_row2_col2, #T_09b2c_row3_col0, #T_09b2c_row3_col1, #T_09b2c_row3_col2 {\n",
       "  color: blue;\n",
       "  text-align: right;\n",
       "}\n",
       "</style>\n",
       "<table data-quarto-disable-processing=\"true\" id=\"T_09b2c\">\n",
       "  <thead>\n",
       "    <tr>\n",
       "      <th class=\"blank level0\" >&nbsp;</th>\n",
       "      <th id=\"T_09b2c_level0_col0\" class=\"col_heading level0 col0\" >Name</th>\n",
       "      <th id=\"T_09b2c_level0_col1\" class=\"col_heading level0 col1\" >Age</th>\n",
       "      <th id=\"T_09b2c_level0_col2\" class=\"col_heading level0 col2\" >City</th>\n",
       "    </tr>\n",
       "  </thead>\n",
       "  <tbody>\n",
       "    <tr>\n",
       "      <th id=\"T_09b2c_level0_row0\" class=\"row_heading level0 row0\" >0</th>\n",
       "      <td id=\"T_09b2c_row0_col0\" class=\"data row0 col0\" >John</td>\n",
       "      <td id=\"T_09b2c_row0_col1\" class=\"data row0 col1\" >25</td>\n",
       "      <td id=\"T_09b2c_row0_col2\" class=\"data row0 col2\" >New York</td>\n",
       "    </tr>\n",
       "    <tr>\n",
       "      <th id=\"T_09b2c_level0_row1\" class=\"row_heading level0 row1\" >1</th>\n",
       "      <td id=\"T_09b2c_row1_col0\" class=\"data row1 col0\" >Jane</td>\n",
       "      <td id=\"T_09b2c_row1_col1\" class=\"data row1 col1\" >30</td>\n",
       "      <td id=\"T_09b2c_row1_col2\" class=\"data row1 col2\" >Paris</td>\n",
       "    </tr>\n",
       "    <tr>\n",
       "      <th id=\"T_09b2c_level0_row2\" class=\"row_heading level0 row2\" >2</th>\n",
       "      <td id=\"T_09b2c_row2_col0\" class=\"data row2 col0\" >Bob</td>\n",
       "      <td id=\"T_09b2c_row2_col1\" class=\"data row2 col1\" >35</td>\n",
       "      <td id=\"T_09b2c_row2_col2\" class=\"data row2 col2\" >London</td>\n",
       "    </tr>\n",
       "    <tr>\n",
       "      <th id=\"T_09b2c_level0_row3\" class=\"row_heading level0 row3\" >3</th>\n",
       "      <td id=\"T_09b2c_row3_col0\" class=\"data row3 col0\" >Alice</td>\n",
       "      <td id=\"T_09b2c_row3_col1\" class=\"data row3 col1\" >40</td>\n",
       "      <td id=\"T_09b2c_row3_col2\" class=\"data row3 col2\" >Tokyo</td>\n",
       "    </tr>\n",
       "  </tbody>\n",
       "</table>\n"
      ],
      "text/plain": [
       "<IPython.core.display.HTML object>"
      ]
     },
     "execution_count": 2,
     "metadata": {},
     "output_type": "execute_result"
    }
   ],
   "source": [
    "# | label: tbl-test-pandas2\n",
    "# | tbl-cap: Embedding a table with panda styler local\n",
    "HTML(html_table.replace(\"<table \", '<table data-quarto-disable-processing=\"true\" '))"
   ]
  },
  {
   "cell_type": "code",
   "execution_count": null,
   "metadata": {},
   "outputs": [],
   "source": []
  }
 ],
 "metadata": {
  "kernelspec": {
   "display_name": "quarto_embed",
   "language": "python",
   "name": "python3"
  },
  "language_info": {
   "codemirror_mode": {
    "name": "ipython",
    "version": 3
   },
   "file_extension": ".py",
   "mimetype": "text/x-python",
   "name": "python",
   "nbconvert_exporter": "python",
   "pygments_lexer": "ipython3",
   "version": "3.10.9"
  },
  "orig_nbformat": 4
 },
 "nbformat": 4,
 "nbformat_minor": 2
}
